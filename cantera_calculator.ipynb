{
 "cells": [
  {
   "cell_type": "code",
   "execution_count": 33,
   "metadata": {},
   "outputs": [],
   "source": [
    "import cantera as ct\n",
    "import numpy as np\n",
    "import matplotlib.pyplot as plt"
   ]
  },
  {
   "cell_type": "markdown",
   "metadata": {},
   "source": [
    "When using Cantera, the first thing you usually need is an object representing some phase of matter. Here, we'll create a gas mixture:"
   ]
  },
  {
   "cell_type": "code",
   "execution_count": 34,
   "metadata": {},
   "outputs": [],
   "source": [
    "gas1 = ct.Solution('gri30.cti')"
   ]
  },
  {
   "cell_type": "markdown",
   "metadata": {},
   "source": [
    "To view the state of the mixture, *call* the `gas1` object as if it were a function:"
   ]
  },
  {
   "cell_type": "code",
   "execution_count": 35,
   "metadata": {},
   "outputs": [
    {
     "name": "stdout",
     "output_type": "stream",
     "text": [
      "\n",
      "  gri30:\n",
      "\n",
      "       temperature             300  K\n",
      "          pressure          101325  Pa\n",
      "           density       0.0818891  kg/m^3\n",
      "  mean mol. weight         2.01588  amu\n",
      "\n",
      "                          1 kg            1 kmol\n",
      "                       -----------      ------------\n",
      "          enthalpy           26470        5.336e+04     J\n",
      "   internal energy     -1.2109e+06       -2.441e+06     J\n",
      "           entropy           64914        1.309e+05     J/K\n",
      "    Gibbs function     -1.9448e+07        -3.92e+07     J\n",
      " heat capacity c_p           14312        2.885e+04     J/K\n",
      " heat capacity c_v           10187        2.054e+04     J/K\n",
      "\n",
      "                           X                 Y          Chem. Pot. / RT\n",
      "                     -------------     ------------     ------------\n",
      "                H2              1                1         -15.7173\n",
      "     [  +52 minor]              0                0\n",
      "\n"
     ]
    }
   ],
   "source": [
    "gas1()"
   ]
  },
  {
   "cell_type": "markdown",
   "metadata": {},
   "source": [
    "## Setting the State\n",
    "\n",
    "The state of the object can easily be changed. For example:"
   ]
  },
  {
   "cell_type": "code",
   "execution_count": 36,
   "metadata": {},
   "outputs": [],
   "source": [
    "gas1.TP = 1200, 101325"
   ]
  },
  {
   "cell_type": "markdown",
   "metadata": {},
   "source": [
    "sets the temperature to 1200 K and the pressure to 101325 Pa (Cantera always uses SI units + kmol). After this statement, calling `gas1()` results in:"
   ]
  },
  {
   "cell_type": "code",
   "execution_count": 37,
   "metadata": {},
   "outputs": [
    {
     "name": "stdout",
     "output_type": "stream",
     "text": [
      "\n",
      "  gri30:\n",
      "\n",
      "       temperature            1200  K\n",
      "          pressure          101325  Pa\n",
      "           density       0.0204723  kg/m^3\n",
      "  mean mol. weight         2.01588  amu\n",
      "\n",
      "                          1 kg            1 kmol\n",
      "                       -----------      ------------\n",
      "          enthalpy      1.3296e+07         2.68e+07     J\n",
      "   internal energy      8.3462e+06        1.682e+07     J\n",
      "           entropy           85228        1.718e+05     J/K\n",
      "    Gibbs function     -8.8978e+07       -1.794e+08     J\n",
      " heat capacity c_p           15378          3.1e+04     J/K\n",
      " heat capacity c_v           11253        2.269e+04     J/K\n",
      "\n",
      "                           X                 Y          Chem. Pot. / RT\n",
      "                     -------------     ------------     ------------\n",
      "                H2              1                1         -17.9775\n",
      "     [  +52 minor]              0                0\n",
      "\n"
     ]
    }
   ],
   "source": [
    "gas1()"
   ]
  },
  {
   "cell_type": "markdown",
   "metadata": {},
   "source": [
    "Properties may be also **read** independently, such as"
   ]
  },
  {
   "cell_type": "markdown",
   "metadata": {},
   "source": [
    "or"
   ]
  },
  {
   "cell_type": "code",
   "execution_count": 38,
   "metadata": {},
   "outputs": [
    {
     "data": {
      "text/plain": [
       "13295567.68419188"
      ]
     },
     "execution_count": 38,
     "metadata": {},
     "output_type": "execute_result"
    }
   ],
   "source": [
    "gas1.h"
   ]
  },
  {
   "cell_type": "markdown",
   "metadata": {},
   "source": [
    "or together:"
   ]
  },
  {
   "cell_type": "code",
   "execution_count": 11,
   "metadata": {},
   "outputs": [
    {
     "data": {
      "text/plain": [
       "(8346188.494954425, 48.8465747765848)"
      ]
     },
     "execution_count": 11,
     "metadata": {},
     "output_type": "execute_result"
    }
   ],
   "source": [
    "gas1.UV"
   ]
  },
  {
   "cell_type": "markdown",
   "metadata": {},
   "source": [
    "You can also set composition:"
   ]
  },
  {
   "cell_type": "code",
   "execution_count": 14,
   "metadata": {},
   "outputs": [],
   "source": [
    "gas1.TPX = 1200, 101325, \"CH4:1, O2:2, N2:7.52\""
   ]
  },
  {
   "cell_type": "markdown",
   "metadata": {},
   "source": [
    "## Chemical Equilibrium"
   ]
  },
  {
   "cell_type": "markdown",
   "metadata": {},
   "source": [
    "To set a gas mixture to a state of chemical equilibrium, use the `equilibrate` method:"
   ]
  },
  {
   "cell_type": "code",
   "execution_count": 26,
   "metadata": {},
   "outputs": [
    {
     "name": "stdout",
     "output_type": "stream",
     "text": [
      "\n",
      "  gri30_mix:\n",
      "\n",
      "       temperature             300  K\n",
      "          pressure          101325  Pa\n",
      "           density         1.12477  kg/m^3\n",
      "  mean mol. weight         27.6886  amu\n",
      "\n",
      "                          1 kg            1 kmol\n",
      "                       -----------      ------------\n",
      "          enthalpy     -2.8724e+06       -7.953e+07     J\n",
      "   internal energy     -2.9624e+06       -8.203e+07     J\n",
      "           entropy          7226.7        2.001e+05     J/K\n",
      "    Gibbs function     -5.0404e+06       -1.396e+08     J\n",
      " heat capacity c_p          1106.5        3.064e+04     J/K\n",
      " heat capacity c_v          806.22        2.232e+04     J/K\n",
      "\n",
      "                           X                 Y          Chem. Pot. / RT\n",
      "                     -------------     ------------     ------------\n",
      "                O2      0.0095511        0.0110379         -29.3248\n",
      "               H2O       0.181471         0.118072         -121.367\n",
      "               CO2      0.0907354          0.14422         -185.873\n",
      "               NO2    6.06037e-12      1.00695e-11         -41.0069\n",
      "                N2       0.718243          0.72667         -23.3641\n",
      "     [  +48 minor]    4.75341e-17      5.15425e-17\n",
      "\n"
     ]
    }
   ],
   "source": [
    "g = ct.Solution(\"gri30.cti\",'gri30_mix')\n",
    "g.TPX = 300.0, ct.one_atm, \"CH4:0.95, O2:2, N2:7.52\"\n",
    "g.equilibrate(\"TP\")\n",
    "g()"
   ]
  },
  {
   "cell_type": "markdown",
   "metadata": {},
   "source": [
    "## Generally speaking, this mode can be used to debug and understand a particular mechanism.\n",
    "\n",
    "For Example, to see the temperature dependence of a property such as the viscosity:"
   ]
  },
  {
   "cell_type": "code",
   "execution_count": 30,
   "metadata": {},
   "outputs": [
    {
     "data": {
      "image/png": "[encoded data removed]",
      "text/plain": [
       "<Figure size 432x288 with 1 Axes>"
      ]
     },
     "metadata": {
      "needs_background": "light"
     },
     "output_type": "display_data"
    }
   ],
   "source": [
    "Temps = np.linspace(300,1000,50)\n",
    "mu = np.zeros_like(Temps)\n",
    "for i,T in enumerate(Temps):\n",
    "    g.TP = T, None\n",
    "    mu[i] = g.viscosity\n",
    "    \n",
    "plt.plot(Temps,mu)\n",
    "plt.xlabel('Temperature')\n",
    "plt.ylabel('Viscosity')\n",
    "plt.show()"
   ]
  },
  {
   "cell_type": "code",
   "execution_count": null,
   "metadata": {},
   "outputs": [],
   "source": []
  }
 ],
 "metadata": {
  "kernelspec": {
   "display_name": "Python 3",
   "language": "python",
   "name": "python3"
  },
  "language_info": {
   "codemirror_mode": {
    "name": "ipython",
    "version": 3
   },
   "file_extension": ".py",
   "mimetype": "text/x-python",
   "name": "python",
   "nbconvert_exporter": "python",
   "pygments_lexer": "ipython3",
   "version": "3.7.2"
  }
 },
 "nbformat": 4,
 "nbformat_minor": 2
}
